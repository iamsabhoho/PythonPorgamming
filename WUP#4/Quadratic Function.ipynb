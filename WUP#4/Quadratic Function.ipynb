{
 "cells": [
  {
   "cell_type": "code",
   "execution_count": 1,
   "metadata": {
    "collapsed": true
   },
   "outputs": [],
   "source": [
    "#This is the calculation for quadratic function"
   ]
  },
  {
   "cell_type": "code",
   "execution_count": 7,
   "metadata": {
    "collapsed": false
   },
   "outputs": [
    {
     "name": "stdout",
     "output_type": "stream",
     "text": [
      "Please enter a value for a(interger)1\n",
      "Please enter a value for b(interger)25\n",
      "Please enter a value for c(interger)3\n",
      "The answer is: -0.12058159686005254and-24.879418403139947\n"
     ]
    }
   ],
   "source": [
    "a = int(input(\"Please enter a value for a(interger)\"))\n",
    "b = int(input(\"Please enter a value for b(interger)\"))\n",
    "c = int(input(\"Please enter a value for c(interger)\"))\n",
    "\n",
    "if (pow(b,2) - 4*a*c) >= 0: \n",
    "    positive = -b + pow((pow(b,2) - 4*a*c),0.5)\n",
    "    negative = -b - pow((pow(b,2) - 4*a*c),0.5)\n",
    "    d = 2*a\n",
    "    \n",
    "    ans1 = positive/d\n",
    "    ans2 = negative/d\n",
    "    \n",
    "    if ans1 == ans2:\n",
    "        print(\"The answer is: \" + str(ans1))\n",
    "    else: \n",
    "        print(\"The answer is: \" + str(ans1) + \"and\" + str(ans2))\n",
    "else: \n",
    "    print(\"Error\")"
   ]
  },
  {
   "cell_type": "code",
   "execution_count": null,
   "metadata": {
    "collapsed": true
   },
   "outputs": [],
   "source": []
  },
  {
   "cell_type": "code",
   "execution_count": null,
   "metadata": {
    "collapsed": true
   },
   "outputs": [],
   "source": []
  }
 ],
 "metadata": {
  "kernelspec": {
   "display_name": "Python [Root]",
   "language": "python",
   "name": "Python [Root]"
  },
  "language_info": {
   "codemirror_mode": {
    "name": "ipython",
    "version": 3
   },
   "file_extension": ".py",
   "mimetype": "text/x-python",
   "name": "python",
   "nbconvert_exporter": "python",
   "pygments_lexer": "ipython3",
   "version": "3.5.2"
  }
 },
 "nbformat": 4,
 "nbformat_minor": 0
}
