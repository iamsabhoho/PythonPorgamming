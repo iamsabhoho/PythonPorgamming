{
 "cells": [
  {
   "cell_type": "code",
   "execution_count": 1,
   "metadata": {
    "collapsed": true
   },
   "outputs": [],
   "source": [
    "#This is the program calculates the surface area and volume for the shapes"
   ]
  },
  {
   "cell_type": "code",
   "execution_count": 25,
   "metadata": {
    "collapsed": false
   },
   "outputs": [
    {
     "name": "stdout",
     "output_type": "stream",
     "text": [
      "Please enter the dimension of the cube(interger)4\n",
      "Please enter the color of the shape(green, yollow, purple, blue, red)red\n",
      "Surface area is: 288\n",
      "Volume is: 8\n"
     ]
    }
   ],
   "source": [
    "d = int(input(\"Please enter the dimension of the cube(interger)\"))\n",
    "cube = 4\n",
    "string = 'green, yellow, purple, blue, red'\n",
    "\n",
    "\n",
    "greenS = d*d*16\n",
    "otherS = d*d*18\n",
    "\n",
    "volume = d^3*cube\n",
    "\n",
    "selection = input(\"Please enter the color of the shape(green, yollow, purple, blue, red)\")\n",
    "if (selection == 'green'):\n",
    "    \n",
    "    print(\"Surface area is: \" + str(greenS))\n",
    "    print(\"Volume is: \" + str(volume))\n",
    "    \n",
    "else:\n",
    "\n",
    "    print(\"Surface area is: \" + str(otherS))\n",
    "    print(\"Volume is: \" + str(volume))\n"
   ]
  },
  {
   "cell_type": "code",
   "execution_count": null,
   "metadata": {
    "collapsed": true
   },
   "outputs": [],
   "source": []
  }
 ],
 "metadata": {
  "anaconda-cloud": {},
  "kernelspec": {
   "display_name": "Python [Root]",
   "language": "python",
   "name": "Python [Root]"
  },
  "language_info": {
   "codemirror_mode": {
    "name": "ipython",
    "version": 3
   },
   "file_extension": ".py",
   "mimetype": "text/x-python",
   "name": "python",
   "nbconvert_exporter": "python",
   "pygments_lexer": "ipython3",
   "version": "3.5.2"
  }
 },
 "nbformat": 4,
 "nbformat_minor": 0
}
