{
 "cells": [
  {
   "cell_type": "code",
   "execution_count": null,
   "metadata": {
    "collapsed": true
   },
   "outputs": [],
   "source": [
    "import numpy as np #libary of functions\n",
    "import math as m #math fucntions\n",
    "import matplotlib.pyplot as plt #for plotting points on graph\n",
    "%matplotlib inline\n",
    "\n",
    "countBricks = 0\n",
    "countBeams= 0\n",
    "\n",
    "#read file\n",
    "legos = np.loadtxt('Legos2.txt',delimiter=',')\n",
    "\n",
    "#beams: (7,4)\n",
    "def beams(x,y):\n",
    "    distance = m.sqrt(x**2 + y**2)\n",
    "    return distance\n",
    "\n",
    "#bricks: (3,5)\n",
    "def bricks(x,y):\n",
    "    distance = m.sqrt(x**2 + y**2)\n",
    "    return distance\n",
    "\n",
    "#comparing distance for beams and bricks from the text file\n",
    "for x, y in legos:\n",
    "    if beams(x, y) < bricks(x, y):\n",
    "        countBeams += 1\n",
    "        plt.scatter(x, y, color = \"red\")\n",
    "    else:\n",
    "        countBricks += 1\n",
    "        plt.scatter(x, y, color = \"blue\")"
   ]
  }
 ],
 "metadata": {},
 "nbformat": 4,
 "nbformat_minor": 0
}
