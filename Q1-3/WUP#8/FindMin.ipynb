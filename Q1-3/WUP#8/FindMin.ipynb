{
 "cells": [
  {
   "cell_type": "markdown",
   "metadata": {},
   "source": [
    "1. select an initial x point {x1} random \n",
    "2. find y(x1)\n",
    "3. select second x point {x2}\n",
    "4. find y(x2)\n",
    "5. if y(x2) < y(x1) \n",
    "    slope = -1\n",
    "   else\n",
    "    direction = 1 \n",
    "6. xn = x1 + 1.0"
   ]
  },
  {
   "cell_type": "code",
   "execution_count": 25,
   "metadata": {
    "collapsed": false
   },
   "outputs": [
    {
     "ename": "SyntaxError",
     "evalue": "invalid syntax (<ipython-input-25-23b63264753f>, line 14)",
     "output_type": "error",
     "traceback": [
      "\u001b[0;36m  File \u001b[0;32m\"<ipython-input-25-23b63264753f>\"\u001b[0;36m, line \u001b[0;32m14\u001b[0m\n\u001b[0;31m    while\u001b[0m\n\u001b[0m          ^\u001b[0m\n\u001b[0;31mSyntaxError\u001b[0m\u001b[0;31m:\u001b[0m invalid syntax\n"
     ]
    }
   ],
   "source": [
    "#finds the minimum of the function 4x3−9x2. \n",
    "#They way you can proceed is make an algorithm that “walks” (see figure) the function and compares \n",
    "#the values in consecutive steps until the difference is below a desired precision,   \n",
    "\n",
    "import random\n",
    "\n",
    "x = int(input(\"Please enter a 'x' value. \")) \n",
    "x = print(random.randint(1,10))\n",
    "print(x)\n",
    "y = int(4*pow(x, 3) - 9*pow(x, 2))\n",
    "print(\"\")\n",
    "print(y)\n",
    "\n",
    "while \n",
    "    x_new = x_old - slope\n",
    "    y_old = y(x_old)\n",
    "    x_old**2 + 1\n",
    "    x_old = x_new\n",
    "    \n",
    "    abs(y(x_new) - y(x_old)) < 0.01\n",
    "    x_new**2 + 1 \n",
    "   "
   ]
  },
  {
   "cell_type": "code",
   "execution_count": null,
   "metadata": {
    "collapsed": true
   },
   "outputs": [],
   "source": []
  }
 ],
 "metadata": {
  "kernelspec": {
   "display_name": "Python [Root]",
   "language": "python",
   "name": "Python [Root]"
  },
  "language_info": {
   "codemirror_mode": {
    "name": "ipython",
    "version": 3
   },
   "file_extension": ".py",
   "mimetype": "text/x-python",
   "name": "python",
   "nbconvert_exporter": "python",
   "pygments_lexer": "ipython3",
   "version": "3.5.2"
  }
 },
 "nbformat": 4,
 "nbformat_minor": 0
}
