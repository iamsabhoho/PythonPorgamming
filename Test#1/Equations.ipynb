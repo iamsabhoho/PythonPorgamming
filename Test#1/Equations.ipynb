{
 "cells": [
  {
   "cell_type": "code",
   "execution_count": null,
   "metadata": {
    "collapsed": true
   },
   "outputs": [],
   "source": [
    "#Points\n",
    "c1x = int(input('Please enter a value for x: '))\n",
    "c1y = int(input('Please enter a vale for y: '))\n",
    "c2x = int(input('Please enter another value for x: '))\n",
    "c2y = int(input('Please enter another value for y: '))\n",
    "\n",
    "\n",
    "\n",
    "#Slope\n",
    "s = (c2y - c1y)/ (c2x - c1x)\n",
    "print('The slope is: ' + str(s))\n",
    "\n",
    "#Ax + By = C\n",
    "A = s * (-1)\n",
    "C = c1y - (s * c1x)\n",
    "print('The standard form is: ' + str(A) + ' x + y = ' + str(C))\n",
    "\n",
    "#y = mx + b\n",
    "b = c1y - (s * c1x)\n",
    "print('The slope-intercept is: y = ' + str(s) + ' x + ' + str(b))\n",
    "\n",
    "#y - y1 = m(x - x1)\n",
    "x = c1x * (-1)\n",
    "y = c1y * (-1)\n",
    "\n",
    "if(y < 0 and x < 0):\n",
    "    print('The point-slope form is: y ' + str(y) + ' = ' + str(s) + '( x ' + str(x) + ')')\n",
    "elif(y >= 0 and x < 0):\n",
    "    print('The point-slope form is: y -  ' + str(y) + ' = ' + str(s) + '( x ' + str(x) + ')')\n",
    "elif(y >= 0 and x >= 0):\n",
    "    print('The point-slope form is: y - ' + str(y) + ' = ' + str(s) +'( x -  ' + str(x) + ' )')\n",
    "else:\n",
    "    print('The point-slope form is: y ' + str(y) + ' = ' + str(s) + '( x -  ' + str(x) + ' )')"
   ]
  }
 ],
 "metadata": {
  "kernelspec": {
   "display_name": "Python [Root]",
   "language": "python",
   "name": "Python [Root]"
  },
  "language_info": {
   "codemirror_mode": {
    "name": "ipython",
    "version": 3
   },
   "file_extension": ".py",
   "mimetype": "text/x-python",
   "name": "python",
   "nbconvert_exporter": "python",
   "pygments_lexer": "ipython3",
   "version": "3.5.2"
  }
 },
 "nbformat": 4,
 "nbformat_minor": 0
}
